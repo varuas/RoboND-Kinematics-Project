{
 "cells": [
  {
   "cell_type": "code",
   "execution_count": 1,
   "metadata": {},
   "outputs": [],
   "source": [
    "#from mpmath import *\n",
    "from sympy import *\n",
    "from sympy.matrices import Matrix\n",
    "import numpy as np"
   ]
  },
  {
   "cell_type": "code",
   "execution_count": 2,
   "metadata": {},
   "outputs": [],
   "source": [
    "def rot_x(q):\n",
    "    '''Creates rotation matrix about X-axis'''\n",
    "    R_x = Matrix([[ 1,              0,        0],\n",
    "                  [ 0,        cos(q),   -sin(q)],\n",
    "                  [ 0,        sin(q),    cos(q)]])\n",
    "    return R_x\n",
    "    \n",
    "def rot_y(q):              \n",
    "    '''Creates rotation matrix about Y-axis'''\n",
    "    R_y = Matrix([[ cos(q),        0,   sin(q)],\n",
    "                  [      0,        1,        0],\n",
    "                  [-sin(q),        0,   cos(q)]])\n",
    "    return R_y\n",
    "\n",
    "def rot_z(q):    \n",
    "    '''Creates rotation matrix about Z-axis'''\n",
    "    R_z = Matrix([[ cos(q), -sin(q),        0],\n",
    "                  [ sin(q),  cos(q),        0],\n",
    "                  [      0,       0,        1]])\n",
    "    return R_z\n",
    "\n",
    "def homogeneous_rot_x(q):\n",
    "    '''Creates homogeneous rotation matrix about X-axis'''\n",
    "    R_x = rot_x(q).row_join(Matrix([[0], [0], [0]])).col_join(Matrix([[0, 0, 0, 1]]))\n",
    "    return R_x\n",
    "    \n",
    "def homogeneous_rot_y(q):              \n",
    "    '''Creates homogeneous rotation matrix about Y-axis'''\n",
    "    R_y = rot_y(q).row_join(Matrix([[0], [0], [0]])).col_join(Matrix([[0, 0, 0, 1]]))\n",
    "    return R_y\n",
    "\n",
    "def homogeneous_rot_z(q):    \n",
    "    '''Creates homogeneous rotation matrix about Z-axis'''\n",
    "    R_z = rot_z(q).row_join(Matrix([[0], [0], [0]])).col_join(Matrix([[0, 0, 0, 1]]))\n",
    "    return R_z\n",
    "\n",
    "def create_DH_trf_matrix(alpha, a, d , q):\n",
    "    '''Define Modified DH Transformation matrix'''\n",
    "    T = Matrix([[             cos(q),            -sin(q),            0,              a],\n",
    "               [ sin(q)*cos(alpha), cos(q)*cos(alpha), -sin(alpha), -sin(alpha)*d],\n",
    "               [ sin(q)*sin(alpha), cos(q)*sin(alpha),  cos(alpha),  cos(alpha)*d],\n",
    "               [                   0,                   0,            0,               1]])\n",
    "    return T\n",
    "\n",
    "def get_rot_from_homogeneous(M):\n",
    "    '''Extracts the rotation matrix from the homogeneous transformation matrix'''\n",
    "    return M[:3,:3]"
   ]
  },
  {
   "cell_type": "code",
   "execution_count": 3,
   "metadata": {
    "scrolled": true
   },
   "outputs": [],
   "source": [
    "### Create symbols for joint variables\n",
    "q1, q2, q3, q4, q5, q6 = symbols('q1:7')\n",
    "d1, d2, d3, d4, d5, d6 = symbols('d1:7')\n",
    "a0, a1, a2, a3, a4, a5 = symbols('a0:6')\n",
    "alpha0, alpha1, alpha2, alpha3, alpha4, alpha5 = symbols('alpha0:6')\n",
    "qG, dG, aG, alphaG = symbols('qG dG aG alphaG')\n",
    "\n",
    "# Create Modified DH parameters\n",
    "dh_params = {\n",
    "        alpha0:0,     a0:0,      d1:0.75,\n",
    "        alpha1:-pi/2, a1:0.35,   d2:0,      q2:q2-pi/2,\n",
    "        alpha2:0,     a2:1.25,   d3:0,\n",
    "        alpha3:-pi/2, a3:-0.054, d4:1.5,\n",
    "        alpha4:pi/2,  a4:0,      d5:0,\n",
    "        alpha5:-pi/2, a5:0,      d6:0,\n",
    "        alphaG:0,     aG:0,      dG:0.303,  qG:0,\n",
    "    }\n",
    "\n",
    "# Create individual transformation matrices\n",
    "T0_1 = create_DH_trf_matrix(alpha0, a0, d1, q1)\n",
    "T0_1 = T0_1.subs(dh_params)\n",
    "T1_2 = create_DH_trf_matrix(alpha1, a1, d2, q2)\n",
    "T1_2 = T1_2.subs(dh_params)\n",
    "T2_3 = create_DH_trf_matrix(alpha2, a2, d3, q3)\n",
    "T2_3 = T2_3.subs(dh_params)\n",
    "T3_4 = create_DH_trf_matrix(alpha3, a3, d4, q4)\n",
    "T3_4 = T3_4.subs(dh_params)\n",
    "T4_5 = create_DH_trf_matrix(alpha4, a4, d5, q5)\n",
    "T4_5 = T4_5.subs(dh_params)\n",
    "T5_6 = create_DH_trf_matrix(alpha5, a5, d6, q6)\n",
    "T5_6 = T5_6.subs(dh_params)\n",
    "T6_G = create_DH_trf_matrix(alphaG, aG, dG, qG)\n",
    "T6_G = T6_G.subs(dh_params)"
   ]
  },
  {
   "cell_type": "code",
   "execution_count": 4,
   "metadata": {},
   "outputs": [],
   "source": [
    "# Rotation matrices (extracted from Transformation matrices)\n",
    "R0_1 = get_rot_from_homogeneous(T0_1)\n",
    "R1_2 = get_rot_from_homogeneous(T1_2)\n",
    "R2_3 = get_rot_from_homogeneous(T2_3)\n",
    "R3_4 = get_rot_from_homogeneous(T3_4)\n",
    "R4_5 = get_rot_from_homogeneous(T4_5)\n",
    "R5_6 = get_rot_from_homogeneous(T5_6)\n",
    "R6_G = get_rot_from_homogeneous(T6_G)"
   ]
  },
  {
   "cell_type": "code",
   "execution_count": 32,
   "metadata": {
    "scrolled": false
   },
   "outputs": [
    {
     "name": "stdout",
     "output_type": "stream",
     "text": [
      "⎡        -1.0          -1.22464679914735e-16  0  0⎤\n",
      "⎢                                                 ⎥\n",
      "⎢1.22464679914735e-16          -1.0           0  0⎥\n",
      "⎢                                                 ⎥\n",
      "⎢         0                      0            1  0⎥\n",
      "⎢                                                 ⎥\n",
      "⎣         0                      0            0  1⎦\n"
     ]
    }
   ],
   "source": [
    "# Composition of Transformation matrices - Incrementally from base to end effector frame\n",
    "T0_2 = T0_1 * T1_2\n",
    "T0_3 = T0_2 * T2_3\n",
    "T0_4 = T0_3 * T3_4\n",
    "T0_5 = T0_4 * T4_5\n",
    "T0_6 = T0_5 * T5_6\n",
    "T0_G = T0_6 * T6_G\n",
    "\n",
    "# Correction matrix for the end effector frame\n",
    "pprint(homogeneous_rot_z(np.pi))\n",
    "R_corr = homogeneous_rot_z(np.pi) * homogeneous_rot_y(-np.pi/2)\n",
    "# Total homogeneous transform between base link and end effector with correction\n",
    "T_total = T0_G * R_corr"
   ]
  },
  {
   "cell_type": "code",
   "execution_count": 34,
   "metadata": {
    "scrolled": false
   },
   "outputs": [
    {
     "data": {
      "image/png": "[encoded data removed]",
      "text/latex": [
       "$$\\left[\\begin{matrix}-6.12323399573677 \\cdot 10^{-17} & -1.22464679914735 \\cdot 10^{-16} & 1.0 & 0\\\\7.49879891330929 \\cdot 10^{-33} & -1.0 & -1.22464679914735 \\cdot 10^{-16} & 0\\\\1.0 & 0 & 6.12323399573677 \\cdot 10^{-17} & 0\\\\0 & 0 & 0 & 1\\end{matrix}\\right]$$"
      ],
      "text/plain": [
       "⎡-6.12323399573677e-17  -1.22464679914735e-16           1.0           0⎤\n",
       "⎢                                                                      ⎥\n",
       "⎢7.49879891330929e-33           -1.0           -1.22464679914735e-16  0⎥\n",
       "⎢                                                                      ⎥\n",
       "⎢         1.0                     0            6.12323399573677e-17   0⎥\n",
       "⎢                                                                      ⎥\n",
       "⎣          0                      0                      0            1⎦"
      ]
     },
     "execution_count": 34,
     "metadata": {},
     "output_type": "execute_result"
    }
   ],
   "source": [
    "#init_printing()\n",
    "#R_corr"
   ]
  },
  {
   "cell_type": "code",
   "execution_count": 6,
   "metadata": {},
   "outputs": [
    {
     "name": "stdout",
     "output_type": "stream",
     "text": [
      "('T0_1 : ', Matrix([\n",
      "[1.0,   0,   0,    0],\n",
      "[  0, 1.0,   0,    0],\n",
      "[  0,   0, 1.0, 0.75],\n",
      "[  0,   0,   0,  1.0]]))\n",
      "('T0_2 : ', Matrix([\n",
      "[  0, 1.0,   0, 0.35],\n",
      "[  0,   0, 1.0,    0],\n",
      "[1.0,   0,   0, 0.75],\n",
      "[  0,   0,   0,  1.0]]))\n",
      "('T0_3 : ', Matrix([\n",
      "[  0, 1.0,   0, 0.35],\n",
      "[  0,   0, 1.0,    0],\n",
      "[1.0,   0,   0,  2.0],\n",
      "[  0,   0,   0,  1.0]]))\n",
      "('T0_4 : ', Matrix([\n",
      "[  0,    0, 1.0,  1.85],\n",
      "[  0, -1.0,   0,     0],\n",
      "[1.0,    0,   0, 1.946],\n",
      "[  0,    0,   0,   1.0]]))\n",
      "('T0_5 : ', Matrix([\n",
      "[  0, 1.0,   0,  1.85],\n",
      "[  0,   0, 1.0,     0],\n",
      "[1.0,   0,   0, 1.946],\n",
      "[  0,   0,   0,   1.0]]))\n",
      "('T0_6 : ', Matrix([\n",
      "[  0,    0, 1.0,  1.85],\n",
      "[  0, -1.0,   0,     0],\n",
      "[1.0,    0,   0, 1.946],\n",
      "[  0,    0,   0,   1.0]]))\n",
      "('T0_G : ', Matrix([\n",
      "[  0,    0, 1.0, 2.153],\n",
      "[  0, -1.0,   0,     0],\n",
      "[1.0,    0,   0, 1.946],\n",
      "[  0,    0,   0,   1.0]]))\n",
      "('T_total : ', Matrix([\n",
      "[                  1.0,                     0, 6.12323399573677e-17, 2.153],\n",
      "[-7.49879891330929e-33,                   1.0, 1.22464679914735e-16,     0],\n",
      "[-6.12323399573677e-17, -1.22464679914735e-16,                  1.0, 1.946],\n",
      "[                    0,                     0,                    0,   1.0]]))\n"
     ]
    }
   ],
   "source": [
    "test_angles = {q1:0, q2:0, q3:0, q4:0, q5:0, q6:0}\n",
    "print(\"T0_1 : \", T0_1.evalf(subs=test_angles))\n",
    "print(\"T0_2 : \", T0_2.evalf(subs=test_angles))\n",
    "print(\"T0_3 : \", T0_3.evalf(subs=test_angles))\n",
    "print(\"T0_4 : \", T0_4.evalf(subs=test_angles))\n",
    "print(\"T0_5 : \", T0_5.evalf(subs=test_angles))\n",
    "print(\"T0_6 : \", T0_6.evalf(subs=test_angles))\n",
    "print(\"T0_G : \", T0_G.evalf(subs=test_angles))\n",
    "print(\"T_total : \", T_total.evalf(subs=test_angles))"
   ]
  },
  {
   "cell_type": "code",
   "execution_count": 7,
   "metadata": {},
   "outputs": [],
   "source": [
    "import matplotlib.pyplot as plt\n",
    "import seaborn as sns\n",
    "\n",
    "with open('error_points.txt', 'r') as f:\n",
    "    content = f.read().split(' ')\n",
    "\n",
    "data = []\n",
    "for l in content:\n",
    "    l = l.strip()\n",
    "    if l == '\\n' or l == '':\n",
    "        continue\n",
    "    data.append(float(l));\n",
    "\n",
    "plt.xlabel('Distribution of the error in end-effector poses', fontsize=10)\n",
    "ax = sns.distplot(data);"
   ]
  },
  {
   "cell_type": "code",
   "execution_count": null,
   "metadata": {},
   "outputs": [],
   "source": []
  }
 ],
 "metadata": {
  "anaconda-cloud": {},
  "kernelspec": {
   "display_name": "Python [conda env:Data_Analysis_py27]",
   "language": "python",
   "name": "conda-env-Data_Analysis_py27-py"
  },
  "language_info": {
   "codemirror_mode": {
    "name": "ipython",
    "version": 2
   },
   "file_extension": ".py",
   "mimetype": "text/x-python",
   "name": "python",
   "nbconvert_exporter": "python",
   "pygments_lexer": "ipython2",
   "version": "2.7.12"
  }
 },
 "nbformat": 4,
 "nbformat_minor": 2
}
